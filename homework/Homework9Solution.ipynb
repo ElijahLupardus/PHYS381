{
 "cells": [
  {
   "cell_type": "markdown",
   "metadata": {},
   "source": [
    "# Homework 9\n",
    "\n",
    "In this assignment I will be making a histogram using the data in the csv file used in Homework 7. We will plot (Ei/Ef)-1 against the number of runs. This histogram must be complete with annotations as well as outlier bars."
   ]
  },
  {
   "cell_type": "code",
   "execution_count": null,
   "metadata": {},
   "outputs": [],
   "source": []
  },
  {
   "cell_type": "code",
   "execution_count": null,
   "metadata": {},
   "outputs": [],
   "source": []
  },
  {
   "cell_type": "code",
   "execution_count": null,
   "metadata": {},
   "outputs": [],
   "source": []
  },
  {
   "cell_type": "code",
   "execution_count": 9,
   "metadata": {},
   "outputs": [],
   "source": [
    "#import the necessary packages\n",
    "import pandas as pd\n",
    "import matplotlib as mpl\n",
    "import matplotlib.pyplot as plt\n",
    "import numpy as np\n",
    "% matplotlib inline"
   ]
  },
  {
   "cell_type": "markdown",
   "metadata": {},
   "source": [
    "First, we will set up the histogram"
   ]
  },
  {
   "cell_type": "code",
   "execution_count": 3,
   "metadata": {},
   "outputs": [
    {
     "data": {
      "text/html": [
       "<div>\n",
       "<style scoped>\n",
       "    .dataframe tbody tr th:only-of-type {\n",
       "        vertical-align: middle;\n",
       "    }\n",
       "\n",
       "    .dataframe tbody tr th {\n",
       "        vertical-align: top;\n",
       "    }\n",
       "\n",
       "    .dataframe thead th {\n",
       "        text-align: right;\n",
       "    }\n",
       "</style>\n",
       "<table border=\"1\" class=\"dataframe\">\n",
       "  <thead>\n",
       "    <tr style=\"text-align: right;\">\n",
       "      <th></th>\n",
       "      <th>Unnamed: 0</th>\n",
       "      <th>T/E</th>\n",
       "      <th>energy_ratio</th>\n",
       "      <th>file</th>\n",
       "      <th>p0_median</th>\n",
       "      <th>p1_median</th>\n",
       "      <th>theta_0_median</th>\n",
       "      <th>theta_1_median</th>\n",
       "      <th>thetadot_0_median</th>\n",
       "      <th>thetadot_1_median</th>\n",
       "    </tr>\n",
       "  </thead>\n",
       "  <tbody>\n",
       "    <tr>\n",
       "      <th>0</th>\n",
       "      <td>0</td>\n",
       "      <td>0.498802</td>\n",
       "      <td>1.000015</td>\n",
       "      <td>/home/cmckay/clusters/CQM/0.0-0.0-0.5031456037...</td>\n",
       "      <td>-0.000712</td>\n",
       "      <td>-0.000374</td>\n",
       "      <td>0.000791</td>\n",
       "      <td>0.000194</td>\n",
       "      <td>-0.000467</td>\n",
       "      <td>-0.000006</td>\n",
       "    </tr>\n",
       "    <tr>\n",
       "      <th>1</th>\n",
       "      <td>1</td>\n",
       "      <td>0.486539</td>\n",
       "      <td>1.000000</td>\n",
       "      <td>/home/cmckay/clusters/CQM/0.0-0.0-4.0880509056...</td>\n",
       "      <td>0.010547</td>\n",
       "      <td>0.001908</td>\n",
       "      <td>0.017215</td>\n",
       "      <td>0.016278</td>\n",
       "      <td>0.020525</td>\n",
       "      <td>0.002620</td>\n",
       "    </tr>\n",
       "    <tr>\n",
       "      <th>2</th>\n",
       "      <td>2</td>\n",
       "      <td>0.441286</td>\n",
       "      <td>1.000005</td>\n",
       "      <td>/home/cmckay/clusters/CQM/0.0-0.0-7.7358492830...</td>\n",
       "      <td>-0.103441</td>\n",
       "      <td>0.120437</td>\n",
       "      <td>0.017798</td>\n",
       "      <td>0.159962</td>\n",
       "      <td>0.094612</td>\n",
       "      <td>0.608498</td>\n",
       "    </tr>\n",
       "    <tr>\n",
       "      <th>3</th>\n",
       "      <td>3</td>\n",
       "      <td>0.420798</td>\n",
       "      <td>1.000001</td>\n",
       "      <td>/home/cmckay/clusters/CQM/0.0-0.0-0.0-8.364780...</td>\n",
       "      <td>-0.001357</td>\n",
       "      <td>0.037266</td>\n",
       "      <td>0.029243</td>\n",
       "      <td>-0.001886</td>\n",
       "      <td>-0.106455</td>\n",
       "      <td>0.156426</td>\n",
       "    </tr>\n",
       "    <tr>\n",
       "      <th>4</th>\n",
       "      <td>4</td>\n",
       "      <td>0.497475</td>\n",
       "      <td>0.999999</td>\n",
       "      <td>/home/cmckay/clusters/CQM/0.0-0.44456571513063...</td>\n",
       "      <td>0.001847</td>\n",
       "      <td>-0.000237</td>\n",
       "      <td>0.000062</td>\n",
       "      <td>-0.000345</td>\n",
       "      <td>0.002214</td>\n",
       "      <td>-0.000163</td>\n",
       "    </tr>\n",
       "  </tbody>\n",
       "</table>\n",
       "</div>"
      ],
      "text/plain": [
       "   Unnamed: 0       T/E  energy_ratio  \\\n",
       "0           0  0.498802      1.000015   \n",
       "1           1  0.486539      1.000000   \n",
       "2           2  0.441286      1.000005   \n",
       "3           3  0.420798      1.000001   \n",
       "4           4  0.497475      0.999999   \n",
       "\n",
       "                                                file  p0_median  p1_median  \\\n",
       "0  /home/cmckay/clusters/CQM/0.0-0.0-0.5031456037...  -0.000712  -0.000374   \n",
       "1  /home/cmckay/clusters/CQM/0.0-0.0-4.0880509056...   0.010547   0.001908   \n",
       "2  /home/cmckay/clusters/CQM/0.0-0.0-7.7358492830...  -0.103441   0.120437   \n",
       "3  /home/cmckay/clusters/CQM/0.0-0.0-0.0-8.364780...  -0.001357   0.037266   \n",
       "4  /home/cmckay/clusters/CQM/0.0-0.44456571513063...   0.001847  -0.000237   \n",
       "\n",
       "   theta_0_median  theta_1_median  thetadot_0_median  thetadot_1_median  \n",
       "0        0.000791        0.000194          -0.000467          -0.000006  \n",
       "1        0.017215        0.016278           0.020525           0.002620  \n",
       "2        0.017798        0.159962           0.094612           0.608498  \n",
       "3        0.029243       -0.001886          -0.106455           0.156426  \n",
       "4        0.000062       -0.000345           0.002214          -0.000163  "
      ]
     },
     "execution_count": 3,
     "metadata": {},
     "output_type": "execute_result"
    }
   ],
   "source": [
    "df = pd.read_csv(\"/home/epl003/PHYS381/homework/HW7data.csv\")\n",
    "df.head()"
   ]
  },
  {
   "cell_type": "code",
   "execution_count": 6,
   "metadata": {},
   "outputs": [],
   "source": [
    "energy_ratio = df['energy_ratio'].values -1"
   ]
  },
  {
   "cell_type": "code",
   "execution_count": null,
   "metadata": {},
   "outputs": [],
   "source": []
  },
  {
   "cell_type": "code",
   "execution_count": null,
   "metadata": {},
   "outputs": [],
   "source": []
  },
  {
   "cell_type": "code",
   "execution_count": null,
   "metadata": {},
   "outputs": [],
   "source": []
  },
  {
   "cell_type": "code",
   "execution_count": null,
   "metadata": {},
   "outputs": [],
   "source": []
  },
  {
   "cell_type": "code",
   "execution_count": 7,
   "metadata": {},
   "outputs": [],
   "source": [
    "# Notes on Homework 9:\n",
    "#Boolean Selector for Outliers\n",
    "\n",
    "data = ((df['energy_ratio']-1) > -1e-5) & ((df['energy_ratio']-1) < 1e-5)\n",
    "outliers = ((df['energy_ratio']-1) < -1e-5) | ((df['energy_ratio']-1) > 1e-5)"
   ]
  },
  {
   "cell_type": "code",
   "execution_count": 11,
   "metadata": {},
   "outputs": [
    {
     "data": {
      "text/plain": [
       "(0, 65)"
      ]
     },
     "execution_count": 11,
     "metadata": {},
     "output_type": "execute_result"
    },
    {
     "data": {
      "image/png": "[encoded data removed]",
      "text/plain": [
       "<matplotlib.figure.Figure at 0x7fdc81518160>"
      ]
     },
     "metadata": {},
     "output_type": "display_data"
    }
   ],
   "source": [
    "ax = plt.hist(data, bins = 50, rwidth = 0.8)\n",
    "bx = plt.hist(outliers, bins = 50, rwidth = 0.8, facecolor = 'pink')\n",
    "plt.text(0.000006, 53, \"N = 585\", alpha = 1, size = 15)\n",
    "plt.text(0.000005, 45, \"Red bars are outliers\\rwidth deviation > 1.0 x 10^-6\", alpha = 1)\n",
    "plt.title('Relative Deviation from Energy Conservation')\n",
    "plt.xlabel('E_i/E_f - 1')\n",
    "plt.ylabel('Number of runs')\n",
    "#When creating a plot with two sets of values (ax, and bx) you need to use this command\n",
    "fig = plt.gcf()\n",
    "fig.set_figheight(10)\n",
    "fig.set_figwidth(15)\n",
    "plt.xlim(-0.0000065, 0.000011)\n",
    "plt.ylim(0, 65)"
   ]
  },
  {
   "cell_type": "code",
   "execution_count": null,
   "metadata": {},
   "outputs": [],
   "source": []
  }
 ],
 "metadata": {
  "kernelspec": {
   "display_name": "Python 3",
   "language": "python",
   "name": "python3"
  },
  "language_info": {
   "codemirror_mode": {
    "name": "ipython",
    "version": 3
   },
   "file_extension": ".py",
   "mimetype": "text/x-python",
   "name": "python",
   "nbconvert_exporter": "python",
   "pygments_lexer": "ipython3",
   "version": "3.5.4"
  }
 },
 "nbformat": 4,
 "nbformat_minor": 2
}
