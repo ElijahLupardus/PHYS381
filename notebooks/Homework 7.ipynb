{
 "cells": [
  {
   "cell_type": "markdown",
   "metadata": {},
   "source": [
    "We will need pandas and numpy."
   ]
  },
  {
   "cell_type": "code",
   "execution_count": 29,
   "metadata": {},
   "outputs": [],
   "source": [
    "import pandas as pd\n",
    "import numpy as np"
   ]
  },
  {
   "cell_type": "markdown",
   "metadata": {},
   "source": [
    "Read one of the csv files into a dataframe."
   ]
  },
  {
   "cell_type": "code",
   "execution_count": 2,
   "metadata": {},
   "outputs": [],
   "source": [
    "df = pd.read_csv(\"/home/cmckay/clusters/CQM/0.0-0.0-0.0-0.12578715094339624.csv\")"
   ]
  },
  {
   "cell_type": "code",
   "execution_count": 3,
   "metadata": {},
   "outputs": [
    {
     "data": {
      "text/html": [
       "<div>\n",
       "<table border=\"1\" class=\"dataframe\">\n",
       "  <thead>\n",
       "    <tr style=\"text-align: right;\">\n",
       "      <th></th>\n",
       "      <th>time</th>\n",
       "      <th>thetadot_0(t)</th>\n",
       "      <th>theta_0(t)</th>\n",
       "      <th>theta_1(t)</th>\n",
       "      <th>thetadot_1(t)</th>\n",
       "      <th>p_0(t)</th>\n",
       "      <th>p_1(t)</th>\n",
       "      <th>V</th>\n",
       "      <th>V_1</th>\n",
       "      <th>T_0</th>\n",
       "      <th>L</th>\n",
       "      <th>V_0</th>\n",
       "      <th>T</th>\n",
       "      <th>T_1</th>\n",
       "      <th>E</th>\n",
       "      <th>H</th>\n",
       "    </tr>\n",
       "  </thead>\n",
       "  <tbody>\n",
       "    <tr>\n",
       "      <th>0</th>\n",
       "      <td>0.000000</td>\n",
       "      <td>0.000000</td>\n",
       "      <td>0.000000e+00</td>\n",
       "      <td>0.000000</td>\n",
       "      <td>0.125787</td>\n",
       "      <td>0.031447</td>\n",
       "      <td>0.031447</td>\n",
       "      <td>0.000000</td>\n",
       "      <td>0.000000</td>\n",
       "      <td>0.000000e+00</td>\n",
       "      <td>0.001978</td>\n",
       "      <td>0.000000e+00</td>\n",
       "      <td>0.001978</td>\n",
       "      <td>0.001978</td>\n",
       "      <td>0.001978</td>\n",
       "      <td>0.001978</td>\n",
       "    </tr>\n",
       "    <tr>\n",
       "      <th>1</th>\n",
       "      <td>0.010001</td>\n",
       "      <td>0.000123</td>\n",
       "      <td>4.162894e-07</td>\n",
       "      <td>0.001257</td>\n",
       "      <td>0.125540</td>\n",
       "      <td>0.031447</td>\n",
       "      <td>0.031416</td>\n",
       "      <td>0.000004</td>\n",
       "      <td>0.000004</td>\n",
       "      <td>1.904470e-09</td>\n",
       "      <td>0.001970</td>\n",
       "      <td>4.245493e-13</td>\n",
       "      <td>0.001974</td>\n",
       "      <td>0.001974</td>\n",
       "      <td>0.001978</td>\n",
       "      <td>0.001978</td>\n",
       "    </tr>\n",
       "    <tr>\n",
       "      <th>2</th>\n",
       "      <td>0.020002</td>\n",
       "      <td>0.000493</td>\n",
       "      <td>3.292316e-06</td>\n",
       "      <td>0.002509</td>\n",
       "      <td>0.124801</td>\n",
       "      <td>0.031447</td>\n",
       "      <td>0.031324</td>\n",
       "      <td>0.000015</td>\n",
       "      <td>0.000015</td>\n",
       "      <td>3.035301e-08</td>\n",
       "      <td>0.001947</td>\n",
       "      <td>2.658318e-11</td>\n",
       "      <td>0.001962</td>\n",
       "      <td>0.001962</td>\n",
       "      <td>0.001978</td>\n",
       "      <td>0.001978</td>\n",
       "    </tr>\n",
       "    <tr>\n",
       "      <th>3</th>\n",
       "      <td>0.030003</td>\n",
       "      <td>0.001105</td>\n",
       "      <td>1.108152e-05</td>\n",
       "      <td>0.003752</td>\n",
       "      <td>0.123575</td>\n",
       "      <td>0.031446</td>\n",
       "      <td>0.031170</td>\n",
       "      <td>0.000035</td>\n",
       "      <td>0.000035</td>\n",
       "      <td>1.526581e-07</td>\n",
       "      <td>0.001909</td>\n",
       "      <td>3.011671e-10</td>\n",
       "      <td>0.001943</td>\n",
       "      <td>0.001943</td>\n",
       "      <td>0.001978</td>\n",
       "      <td>0.001978</td>\n",
       "    </tr>\n",
       "    <tr>\n",
       "      <th>4</th>\n",
       "      <td>0.040004</td>\n",
       "      <td>0.001956</td>\n",
       "      <td>2.619056e-05</td>\n",
       "      <td>0.004980</td>\n",
       "      <td>0.121867</td>\n",
       "      <td>0.031444</td>\n",
       "      <td>0.030956</td>\n",
       "      <td>0.000061</td>\n",
       "      <td>0.000061</td>\n",
       "      <td>4.780562e-07</td>\n",
       "      <td>0.001856</td>\n",
       "      <td>1.682281e-09</td>\n",
       "      <td>0.001917</td>\n",
       "      <td>0.001917</td>\n",
       "      <td>0.001978</td>\n",
       "      <td>0.001978</td>\n",
       "    </tr>\n",
       "  </tbody>\n",
       "</table>\n",
       "</div>"
      ],
      "text/plain": [
       "       time  thetadot_0(t)    theta_0(t)  theta_1(t)  thetadot_1(t)    p_0(t)  \\\n",
       "0  0.000000       0.000000  0.000000e+00    0.000000       0.125787  0.031447   \n",
       "1  0.010001       0.000123  4.162894e-07    0.001257       0.125540  0.031447   \n",
       "2  0.020002       0.000493  3.292316e-06    0.002509       0.124801  0.031447   \n",
       "3  0.030003       0.001105  1.108152e-05    0.003752       0.123575  0.031446   \n",
       "4  0.040004       0.001956  2.619056e-05    0.004980       0.121867  0.031444   \n",
       "\n",
       "     p_1(t)         V       V_1           T_0         L           V_0  \\\n",
       "0  0.031447  0.000000  0.000000  0.000000e+00  0.001978  0.000000e+00   \n",
       "1  0.031416  0.000004  0.000004  1.904470e-09  0.001970  4.245493e-13   \n",
       "2  0.031324  0.000015  0.000015  3.035301e-08  0.001947  2.658318e-11   \n",
       "3  0.031170  0.000035  0.000035  1.526581e-07  0.001909  3.011671e-10   \n",
       "4  0.030956  0.000061  0.000061  4.780562e-07  0.001856  1.682281e-09   \n",
       "\n",
       "          T       T_1         E         H  \n",
       "0  0.001978  0.001978  0.001978  0.001978  \n",
       "1  0.001974  0.001974  0.001978  0.001978  \n",
       "2  0.001962  0.001962  0.001978  0.001978  \n",
       "3  0.001943  0.001943  0.001978  0.001978  \n",
       "4  0.001917  0.001917  0.001978  0.001978  "
      ]
     },
     "execution_count": 3,
     "metadata": {},
     "output_type": "execute_result"
    }
   ],
   "source": [
    "df.head()"
   ]
  },
  {
   "cell_type": "markdown",
   "metadata": {},
   "source": [
    "We can make an index out of one of the columns."
   ]
  },
  {
   "cell_type": "code",
   "execution_count": 6,
   "metadata": {},
   "outputs": [],
   "source": [
    "df = df.set_index('time')"
   ]
  },
  {
   "cell_type": "code",
   "execution_count": 7,
   "metadata": {},
   "outputs": [
    {
     "data": {
      "text/html": [
       "<div>\n",
       "<table border=\"1\" class=\"dataframe\">\n",
       "  <thead>\n",
       "    <tr style=\"text-align: right;\">\n",
       "      <th></th>\n",
       "      <th>thetadot_0(t)</th>\n",
       "      <th>theta_0(t)</th>\n",
       "      <th>theta_1(t)</th>\n",
       "      <th>thetadot_1(t)</th>\n",
       "      <th>p_0(t)</th>\n",
       "      <th>p_1(t)</th>\n",
       "      <th>V</th>\n",
       "      <th>V_1</th>\n",
       "      <th>T_0</th>\n",
       "      <th>L</th>\n",
       "      <th>V_0</th>\n",
       "      <th>T</th>\n",
       "      <th>T_1</th>\n",
       "      <th>E</th>\n",
       "      <th>H</th>\n",
       "    </tr>\n",
       "    <tr>\n",
       "      <th>time</th>\n",
       "      <th></th>\n",
       "      <th></th>\n",
       "      <th></th>\n",
       "      <th></th>\n",
       "      <th></th>\n",
       "      <th></th>\n",
       "      <th></th>\n",
       "      <th></th>\n",
       "      <th></th>\n",
       "      <th></th>\n",
       "      <th></th>\n",
       "      <th></th>\n",
       "      <th></th>\n",
       "      <th></th>\n",
       "      <th></th>\n",
       "    </tr>\n",
       "  </thead>\n",
       "  <tbody>\n",
       "    <tr>\n",
       "      <th>0.000000</th>\n",
       "      <td>0.000000</td>\n",
       "      <td>0.000000e+00</td>\n",
       "      <td>0.000000</td>\n",
       "      <td>0.125787</td>\n",
       "      <td>0.031447</td>\n",
       "      <td>0.031447</td>\n",
       "      <td>0.000000</td>\n",
       "      <td>0.000000</td>\n",
       "      <td>0.000000e+00</td>\n",
       "      <td>0.001978</td>\n",
       "      <td>0.000000e+00</td>\n",
       "      <td>0.001978</td>\n",
       "      <td>0.001978</td>\n",
       "      <td>0.001978</td>\n",
       "      <td>0.001978</td>\n",
       "    </tr>\n",
       "    <tr>\n",
       "      <th>0.010001</th>\n",
       "      <td>0.000123</td>\n",
       "      <td>4.162894e-07</td>\n",
       "      <td>0.001257</td>\n",
       "      <td>0.125540</td>\n",
       "      <td>0.031447</td>\n",
       "      <td>0.031416</td>\n",
       "      <td>0.000004</td>\n",
       "      <td>0.000004</td>\n",
       "      <td>1.904470e-09</td>\n",
       "      <td>0.001970</td>\n",
       "      <td>4.245493e-13</td>\n",
       "      <td>0.001974</td>\n",
       "      <td>0.001974</td>\n",
       "      <td>0.001978</td>\n",
       "      <td>0.001978</td>\n",
       "    </tr>\n",
       "    <tr>\n",
       "      <th>0.020002</th>\n",
       "      <td>0.000493</td>\n",
       "      <td>3.292316e-06</td>\n",
       "      <td>0.002509</td>\n",
       "      <td>0.124801</td>\n",
       "      <td>0.031447</td>\n",
       "      <td>0.031324</td>\n",
       "      <td>0.000015</td>\n",
       "      <td>0.000015</td>\n",
       "      <td>3.035301e-08</td>\n",
       "      <td>0.001947</td>\n",
       "      <td>2.658318e-11</td>\n",
       "      <td>0.001962</td>\n",
       "      <td>0.001962</td>\n",
       "      <td>0.001978</td>\n",
       "      <td>0.001978</td>\n",
       "    </tr>\n",
       "    <tr>\n",
       "      <th>0.030003</th>\n",
       "      <td>0.001105</td>\n",
       "      <td>1.108152e-05</td>\n",
       "      <td>0.003752</td>\n",
       "      <td>0.123575</td>\n",
       "      <td>0.031446</td>\n",
       "      <td>0.031170</td>\n",
       "      <td>0.000035</td>\n",
       "      <td>0.000035</td>\n",
       "      <td>1.526581e-07</td>\n",
       "      <td>0.001909</td>\n",
       "      <td>3.011671e-10</td>\n",
       "      <td>0.001943</td>\n",
       "      <td>0.001943</td>\n",
       "      <td>0.001978</td>\n",
       "      <td>0.001978</td>\n",
       "    </tr>\n",
       "    <tr>\n",
       "      <th>0.040004</th>\n",
       "      <td>0.001956</td>\n",
       "      <td>2.619056e-05</td>\n",
       "      <td>0.004980</td>\n",
       "      <td>0.121867</td>\n",
       "      <td>0.031444</td>\n",
       "      <td>0.030956</td>\n",
       "      <td>0.000061</td>\n",
       "      <td>0.000061</td>\n",
       "      <td>4.780562e-07</td>\n",
       "      <td>0.001856</td>\n",
       "      <td>1.682281e-09</td>\n",
       "      <td>0.001917</td>\n",
       "      <td>0.001917</td>\n",
       "      <td>0.001978</td>\n",
       "      <td>0.001978</td>\n",
       "    </tr>\n",
       "  </tbody>\n",
       "</table>\n",
       "</div>"
      ],
      "text/plain": [
       "          thetadot_0(t)    theta_0(t)  theta_1(t)  thetadot_1(t)    p_0(t)  \\\n",
       "time                                                                         \n",
       "0.000000       0.000000  0.000000e+00    0.000000       0.125787  0.031447   \n",
       "0.010001       0.000123  4.162894e-07    0.001257       0.125540  0.031447   \n",
       "0.020002       0.000493  3.292316e-06    0.002509       0.124801  0.031447   \n",
       "0.030003       0.001105  1.108152e-05    0.003752       0.123575  0.031446   \n",
       "0.040004       0.001956  2.619056e-05    0.004980       0.121867  0.031444   \n",
       "\n",
       "            p_1(t)         V       V_1           T_0         L           V_0  \\\n",
       "time                                                                           \n",
       "0.000000  0.031447  0.000000  0.000000  0.000000e+00  0.001978  0.000000e+00   \n",
       "0.010001  0.031416  0.000004  0.000004  1.904470e-09  0.001970  4.245493e-13   \n",
       "0.020002  0.031324  0.000015  0.000015  3.035301e-08  0.001947  2.658318e-11   \n",
       "0.030003  0.031170  0.000035  0.000035  1.526581e-07  0.001909  3.011671e-10   \n",
       "0.040004  0.030956  0.000061  0.000061  4.780562e-07  0.001856  1.682281e-09   \n",
       "\n",
       "                 T       T_1         E         H  \n",
       "time                                              \n",
       "0.000000  0.001978  0.001978  0.001978  0.001978  \n",
       "0.010001  0.001974  0.001974  0.001978  0.001978  \n",
       "0.020002  0.001962  0.001962  0.001978  0.001978  \n",
       "0.030003  0.001943  0.001943  0.001978  0.001978  \n",
       "0.040004  0.001917  0.001917  0.001978  0.001978  "
      ]
     },
     "execution_count": 7,
     "metadata": {},
     "output_type": "execute_result"
    }
   ],
   "source": [
    "df.head()"
   ]
  },
  {
   "cell_type": "markdown",
   "metadata": {},
   "source": [
    "Select columns like a dictionary."
   ]
  },
  {
   "cell_type": "code",
   "execution_count": 8,
   "metadata": {},
   "outputs": [
    {
     "data": {
      "text/plain": [
       "time\n",
       "0.000000      0.001978\n",
       "0.010001      0.001978\n",
       "0.020002      0.001978\n",
       "0.030003      0.001978\n",
       "0.040004      0.001978\n",
       "0.050005      0.001978\n",
       "0.060006      0.001978\n",
       "0.070007      0.001978\n",
       "0.080008      0.001978\n",
       "0.090009      0.001978\n",
       "0.100010      0.001978\n",
       "0.110011      0.001978\n",
       "0.120012      0.001978\n",
       "0.130013      0.001978\n",
       "0.140014      0.001978\n",
       "0.150015      0.001978\n",
       "0.160016      0.001978\n",
       "0.170017      0.001978\n",
       "0.180018      0.001978\n",
       "0.190019      0.001978\n",
       "0.200020      0.001978\n",
       "0.210021      0.001978\n",
       "0.220022      0.001978\n",
       "0.230023      0.001978\n",
       "0.240024      0.001978\n",
       "0.250025      0.001978\n",
       "0.260026      0.001978\n",
       "0.270027      0.001978\n",
       "0.280028      0.001978\n",
       "0.290029      0.001978\n",
       "                ...   \n",
       "99.709971     0.001977\n",
       "99.719972     0.001977\n",
       "99.729973     0.001977\n",
       "99.739974     0.001977\n",
       "99.749975     0.001977\n",
       "99.759976     0.001977\n",
       "99.769977     0.001977\n",
       "99.779978     0.001977\n",
       "99.789979     0.001977\n",
       "99.799980     0.001977\n",
       "99.809981     0.001977\n",
       "99.819982     0.001977\n",
       "99.829983     0.001977\n",
       "99.839984     0.001977\n",
       "99.849985     0.001977\n",
       "99.859986     0.001977\n",
       "99.869987     0.001977\n",
       "99.879988     0.001977\n",
       "99.889989     0.001977\n",
       "99.899990     0.001977\n",
       "99.909991     0.001977\n",
       "99.919992     0.001977\n",
       "99.929993     0.001977\n",
       "99.939994     0.001977\n",
       "99.949995     0.001977\n",
       "99.959996     0.001977\n",
       "99.969997     0.001977\n",
       "99.979998     0.001977\n",
       "99.989999     0.001977\n",
       "100.000000    0.001977\n",
       "Name: E, dtype: float64"
      ]
     },
     "execution_count": 8,
     "metadata": {},
     "output_type": "execute_result"
    }
   ],
   "source": [
    "df['E']"
   ]
  },
  {
   "cell_type": "markdown",
   "metadata": {},
   "source": [
    "Use iloc to index like a list."
   ]
  },
  {
   "cell_type": "code",
   "execution_count": 9,
   "metadata": {},
   "outputs": [
    {
     "data": {
      "text/plain": [
       "0.0019778009178068601"
      ]
     },
     "execution_count": 9,
     "metadata": {},
     "output_type": "execute_result"
    }
   ],
   "source": [
    "df['E'].iloc[0]"
   ]
  },
  {
   "cell_type": "code",
   "execution_count": 10,
   "metadata": {},
   "outputs": [
    {
     "data": {
      "text/plain": [
       "0.0019770242241108353"
      ]
     },
     "execution_count": 10,
     "metadata": {},
     "output_type": "execute_result"
    }
   ],
   "source": [
    "df['E'].iloc[-1]"
   ]
  },
  {
   "cell_type": "code",
   "execution_count": 12,
   "metadata": {},
   "outputs": [],
   "source": [
    "def calc_energy_ratio(df):\n",
    "    \"\"\"Calculate the ratio of initial to final energy.\n",
    "    \n",
    "    arguments:\n",
    "    df: dataframe\n",
    "    \"\"\"\n",
    "    initial_energy = df['E'].iloc[0]\n",
    "    final_energy = df['E'].iloc[-1]\n",
    "    \n",
    "    return initial_energy/final_energy"
   ]
  },
  {
   "cell_type": "code",
   "execution_count": 13,
   "metadata": {},
   "outputs": [
    {
     "name": "stdout",
     "output_type": "stream",
     "text": [
      "Help on function calc_energy_ratio in module __main__:\n",
      "\n",
      "calc_energy_ratio(df)\n",
      "    Calculate the ratio of initial to final energy.\n",
      "    \n",
      "    arguments:\n",
      "    df: dataframe\n",
      "\n"
     ]
    }
   ],
   "source": [
    "help(calc_energy_ratio)"
   ]
  },
  {
   "cell_type": "code",
   "execution_count": 14,
   "metadata": {},
   "outputs": [
    {
     "data": {
      "text/plain": [
       "1.0003928599794341"
      ]
     },
     "execution_count": 14,
     "metadata": {},
     "output_type": "execute_result"
    }
   ],
   "source": [
    "calc_energy_ratio(df)"
   ]
  },
  {
   "cell_type": "code",
   "execution_count": 15,
   "metadata": {},
   "outputs": [],
   "source": [
    "df2 = pd.read_csv(\"/home/cmckay/clusters/CQM/0.0-0.0-0.0-2.3899378679245284.csv\")"
   ]
  },
  {
   "cell_type": "code",
   "execution_count": 16,
   "metadata": {},
   "outputs": [
    {
     "data": {
      "text/plain": [
       "1.0000013294493943"
      ]
     },
     "execution_count": 16,
     "metadata": {},
     "output_type": "execute_result"
    }
   ],
   "source": [
    "calc_energy_ratio(df2)"
   ]
  },
  {
   "cell_type": "markdown",
   "metadata": {},
   "source": [
    "Change our function to handle a filename instead of a dataframe."
   ]
  },
  {
   "cell_type": "code",
   "execution_count": 35,
   "metadata": {},
   "outputs": [],
   "source": [
    "def calc_stuff_from_file(filename):\n",
    "    \"\"\"Calculate some information about a data set.\n",
    "    \n",
    "    arguments:\n",
    "    filename: string pointing to a csv file\n",
    "    \n",
    "    We will calculate:\n",
    "    - the ratio of starting to ending energy\n",
    "    - median p_0(t)\n",
    "    - median p_1(1)\n",
    "    \"\"\"\n",
    "    values_dict = dict()\n",
    "    \n",
    "    df = pd.read_csv(filename)\n",
    "    initial_energy = df['E'].iloc[0]\n",
    "    final_energy = df['E'].iloc[-1]\n",
    "    values_dict['energy_ratio'] = initial_energy/final_energy\n",
    "    \n",
    "    medians = df.apply(np.median)\n",
    "    values_dict['p0med'] = medians['p_0(t)']\n",
    "    values_dict['p1med'] = medians['p_1(t)']\n",
    "    \n",
    "    return values_dict"
   ]
  },
  {
   "cell_type": "code",
   "execution_count": 37,
   "metadata": {},
   "outputs": [
    {
     "data": {
      "text/plain": [
       "{'energy_ratio': 1.0000214090174178,\n",
       " 'p0med': 7.7208400257110926e-05,\n",
       " 'p1med': -0.0002919508676470766}"
      ]
     },
     "execution_count": 37,
     "metadata": {},
     "output_type": "execute_result"
    }
   ],
   "source": [
    "calc_stuff_from_file(\"/home/cmckay/clusters/CQM/0.0-0.0-0.0-0.4402525283018868.csv\")"
   ]
  },
  {
   "cell_type": "markdown",
   "metadata": {},
   "source": [
    "Glob allows us to deal with multiple files using wildcards."
   ]
  },
  {
   "cell_type": "code",
   "execution_count": 19,
   "metadata": {},
   "outputs": [],
   "source": [
    "import glob"
   ]
  },
  {
   "cell_type": "code",
   "execution_count": 20,
   "metadata": {},
   "outputs": [],
   "source": [
    "csvfiles = glob.glob(\"/home/cmckay/clusters/CQM/*.csv\")"
   ]
  },
  {
   "cell_type": "code",
   "execution_count": 21,
   "metadata": {},
   "outputs": [
    {
     "data": {
      "text/plain": [
       "list"
      ]
     },
     "execution_count": 21,
     "metadata": {},
     "output_type": "execute_result"
    }
   ],
   "source": [
    "type(csvfiles)"
   ]
  },
  {
   "cell_type": "code",
   "execution_count": 22,
   "metadata": {},
   "outputs": [
    {
     "data": {
      "text/plain": [
       "640"
      ]
     },
     "execution_count": 22,
     "metadata": {},
     "output_type": "execute_result"
    }
   ],
   "source": [
    "len(csvfiles)"
   ]
  },
  {
   "cell_type": "code",
   "execution_count": 23,
   "metadata": {},
   "outputs": [
    {
     "data": {
      "text/plain": [
       "['/home/cmckay/clusters/CQM/0.0-0.0-0.503145603773585-0.0.csv',\n",
       " '/home/cmckay/clusters/CQM/0.0-0.0-4.088050905660378-0.0.csv',\n",
       " '/home/cmckay/clusters/CQM/0.0-0.0-7.735849283018869-0.0.csv']"
      ]
     },
     "execution_count": 23,
     "metadata": {},
     "output_type": "execute_result"
    }
   ],
   "source": [
    "csvfiles[0:3]"
   ]
  },
  {
   "cell_type": "code",
   "execution_count": 25,
   "metadata": {},
   "outputs": [],
   "source": [
    "energy_ratios = []\n",
    "\n",
    "for thefile in csvfiles[0:10]:\n",
    "    energy_ratios.append(calc_energy_ratio_from_file(thefile))"
   ]
  },
  {
   "cell_type": "code",
   "execution_count": 26,
   "metadata": {},
   "outputs": [
    {
     "data": {
      "text/plain": [
       "[1.0000153716056066,\n",
       " 1.0000000397253885,\n",
       " 1.0000051514333965,\n",
       " 1.0000007680350425,\n",
       " 0.99999945562691683,\n",
       " 1.0000039239381104,\n",
       " 1.0003184746178055,\n",
       " 1.0000020636686926,\n",
       " 1.0000024326427803,\n",
       " 1.0000072577762991]"
      ]
     },
     "execution_count": 26,
     "metadata": {},
     "output_type": "execute_result"
    }
   ],
   "source": [
    "energy_ratios"
   ]
  },
  {
   "cell_type": "code",
   "execution_count": 38,
   "metadata": {},
   "outputs": [],
   "source": [
    "calculated_values = []\n",
    "for thefile in csvfiles[0:10]:\n",
    "    calculated_values.append(calc_stuff_from_file(thefile))"
   ]
  },
  {
   "cell_type": "code",
   "execution_count": 39,
   "metadata": {},
   "outputs": [
    {
     "data": {
      "text/html": [
       "<div>\n",
       "<table border=\"1\" class=\"dataframe\">\n",
       "  <thead>\n",
       "    <tr style=\"text-align: right;\">\n",
       "      <th></th>\n",
       "      <th>energy_ratio</th>\n",
       "      <th>p0med</th>\n",
       "      <th>p1med</th>\n",
       "    </tr>\n",
       "  </thead>\n",
       "  <tbody>\n",
       "    <tr>\n",
       "      <th>0</th>\n",
       "      <td>1.000015</td>\n",
       "      <td>-0.000712</td>\n",
       "      <td>-0.000374</td>\n",
       "    </tr>\n",
       "    <tr>\n",
       "      <th>1</th>\n",
       "      <td>1.000000</td>\n",
       "      <td>0.010547</td>\n",
       "      <td>0.001908</td>\n",
       "    </tr>\n",
       "    <tr>\n",
       "      <th>2</th>\n",
       "      <td>1.000005</td>\n",
       "      <td>-0.103441</td>\n",
       "      <td>0.120437</td>\n",
       "    </tr>\n",
       "    <tr>\n",
       "      <th>3</th>\n",
       "      <td>1.000001</td>\n",
       "      <td>-0.001357</td>\n",
       "      <td>0.037266</td>\n",
       "    </tr>\n",
       "    <tr>\n",
       "      <th>4</th>\n",
       "      <td>0.999999</td>\n",
       "      <td>0.001847</td>\n",
       "      <td>-0.000237</td>\n",
       "    </tr>\n",
       "    <tr>\n",
       "      <th>5</th>\n",
       "      <td>1.000004</td>\n",
       "      <td>0.338110</td>\n",
       "      <td>0.233669</td>\n",
       "    </tr>\n",
       "    <tr>\n",
       "      <th>6</th>\n",
       "      <td>1.000318</td>\n",
       "      <td>-0.000629</td>\n",
       "      <td>-0.000100</td>\n",
       "    </tr>\n",
       "    <tr>\n",
       "      <th>7</th>\n",
       "      <td>1.000002</td>\n",
       "      <td>0.025534</td>\n",
       "      <td>0.010311</td>\n",
       "    </tr>\n",
       "    <tr>\n",
       "      <th>8</th>\n",
       "      <td>1.000002</td>\n",
       "      <td>-0.003493</td>\n",
       "      <td>-0.001565</td>\n",
       "    </tr>\n",
       "    <tr>\n",
       "      <th>9</th>\n",
       "      <td>1.000007</td>\n",
       "      <td>-0.000129</td>\n",
       "      <td>-0.000522</td>\n",
       "    </tr>\n",
       "  </tbody>\n",
       "</table>\n",
       "</div>"
      ],
      "text/plain": [
       "   energy_ratio     p0med     p1med\n",
       "0      1.000015 -0.000712 -0.000374\n",
       "1      1.000000  0.010547  0.001908\n",
       "2      1.000005 -0.103441  0.120437\n",
       "3      1.000001 -0.001357  0.037266\n",
       "4      0.999999  0.001847 -0.000237\n",
       "5      1.000004  0.338110  0.233669\n",
       "6      1.000318 -0.000629 -0.000100\n",
       "7      1.000002  0.025534  0.010311\n",
       "8      1.000002 -0.003493 -0.001565\n",
       "9      1.000007 -0.000129 -0.000522"
      ]
     },
     "execution_count": 39,
     "metadata": {},
     "output_type": "execute_result"
    }
   ],
   "source": [
    "calc_df = pd.DataFrame(calculated_values)\n",
    "calc_df"
   ]
  },
  {
   "cell_type": "code",
   "execution_count": 40,
   "metadata": {},
   "outputs": [],
   "source": [
    "calc_df.to_csv('hw7.csv')"
   ]
  },
  {
   "cell_type": "code",
   "execution_count": null,
   "metadata": {},
   "outputs": [],
   "source": []
  },
  {
   "cell_type": "markdown",
   "metadata": {},
   "source": [
    "Use `apply` to run a function on all of the columns."
   ]
  },
  {
   "cell_type": "code",
   "execution_count": 33,
   "metadata": {},
   "outputs": [
    {
     "data": {
      "text/plain": [
       "thetadot_0(t)    0.000022\n",
       "theta_0(t)      -0.000017\n",
       "theta_1(t)       0.000242\n",
       "thetadot_1(t)   -0.000013\n",
       "p_0(t)           0.000011\n",
       "p_1(t)          -0.000070\n",
       "V                0.000990\n",
       "V_1              0.000719\n",
       "T_0              0.000127\n",
       "L               -0.000001\n",
       "V_0              0.000168\n",
       "T                0.000988\n",
       "T_1              0.000699\n",
       "E                0.001977\n",
       "H                0.001977\n",
       "dtype: float64"
      ]
     },
     "execution_count": 33,
     "metadata": {},
     "output_type": "execute_result"
    }
   ],
   "source": [
    "medians = df.apply(np.median)\n",
    "medians"
   ]
  },
  {
   "cell_type": "code",
   "execution_count": 34,
   "metadata": {},
   "outputs": [
    {
     "data": {
      "text/plain": [
       "1.072638454539636e-05"
      ]
     },
     "execution_count": 34,
     "metadata": {},
     "output_type": "execute_result"
    }
   ],
   "source": [
    "medians['p_0(t)']"
   ]
  },
  {
   "cell_type": "code",
   "execution_count": 32,
   "metadata": {},
   "outputs": [
    {
     "data": {
      "text/plain": [
       "time\n",
       "0.000000      0.001978\n",
       "0.010001      0.001970\n",
       "0.020002      0.001962\n",
       "0.030003      0.001943\n",
       "0.040004      0.001917\n",
       "0.050005      0.001884\n",
       "0.060006      0.001844\n",
       "0.070007      0.001799\n",
       "0.080008      0.001749\n",
       "0.090009      0.001695\n",
       "0.100010      0.001637\n",
       "0.110011      0.001576\n",
       "0.120012      0.001513\n",
       "0.130013      0.001449\n",
       "0.140014      0.001385\n",
       "0.150015      0.001321\n",
       "0.160016      0.001524\n",
       "0.170017      0.001803\n",
       "0.180018      0.001978\n",
       "0.190019      0.001978\n",
       "0.200020      0.001978\n",
       "0.210021      0.001978\n",
       "0.220022      0.001978\n",
       "0.230023      0.001978\n",
       "0.240024      0.001978\n",
       "0.250025      0.001978\n",
       "0.260026      0.001978\n",
       "0.270027      0.001248\n",
       "0.280028      0.001279\n",
       "0.290029      0.001309\n",
       "                ...   \n",
       "99.709971     0.000303\n",
       "99.719972     0.000361\n",
       "99.729973     0.000421\n",
       "99.739974     0.000483\n",
       "99.749975     0.000545\n",
       "99.759976     0.000607\n",
       "99.769977     0.000669\n",
       "99.779978     0.000730\n",
       "99.789979     0.000788\n",
       "99.799980     0.000845\n",
       "99.809981     0.000860\n",
       "99.819982     0.000918\n",
       "99.829983     0.000973\n",
       "99.839984     0.000933\n",
       "99.849985     0.000891\n",
       "99.859986     0.000851\n",
       "99.869987     0.000814\n",
       "99.879988     0.000779\n",
       "99.889989     0.001231\n",
       "99.899990     0.001259\n",
       "99.909991     0.001283\n",
       "99.919992     0.001303\n",
       "99.929993     0.001318\n",
       "99.939994     0.001329\n",
       "99.949995     0.001336\n",
       "99.959996     0.001339\n",
       "99.969997     0.001338\n",
       "99.979998     0.001333\n",
       "99.989999     0.001527\n",
       "100.000000    0.001559\n",
       "dtype: float64"
      ]
     },
     "execution_count": 32,
     "metadata": {},
     "output_type": "execute_result"
    }
   ],
   "source": [
    "df.apply(np.median, axis=1)"
   ]
  },
  {
   "cell_type": "code",
   "execution_count": null,
   "metadata": {},
   "outputs": [],
   "source": []
  }
 ],
 "metadata": {
  "kernelspec": {
   "display_name": "Python 3",
   "language": "python",
   "name": "python3"
  },
  "language_info": {
   "codemirror_mode": {
    "name": "ipython",
    "version": 3
   },
   "file_extension": ".py",
   "mimetype": "text/x-python",
   "name": "python",
   "nbconvert_exporter": "python",
   "pygments_lexer": "ipython3",
   "version": "3.5.4"
  }
 },
 "nbformat": 4,
 "nbformat_minor": 2
}
